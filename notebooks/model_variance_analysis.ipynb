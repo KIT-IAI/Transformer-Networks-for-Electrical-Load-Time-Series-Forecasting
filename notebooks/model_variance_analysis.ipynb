{
 "cells": [
  {
   "cell_type": "markdown",
   "source": [
    "___\n",
    "Analyse the Variance"
   ],
   "metadata": {
    "collapsed": false
   }
  },
  {
   "cell_type": "code",
   "execution_count": null,
   "outputs": [],
   "source": [
    "import json\n",
    "import os\n",
    "from typing import List\n",
    "\n",
    "import numpy as np\n",
    "from matplotlib import pyplot as plt\n",
    "\n",
    "\n",
    "model_ids: List[str] = [\n",
    "    # 'LinearRegression2021_12_02_12_25_39_613388',\n",
    "    'TimeSeriesTransformerWithConvolutionalAttention2021_12_08_12_03_29_886202',\n",
    "        'TimeSeriesTransformerWithConvolutionalAttention2021_12_15_12_36_39_801430'\n",
    "\n",
    "]\n",
    "\n",
    "    # 'SimpleNeuralNet2021_12_02_11_51_54_168646',\n",
    "    # 'SimpleNeuralNet2021_12_02_11_11_55_435483',\n",
    "    # 'LinearRegression2021_12_02_12_25_39_613388',\n",
    "    # 'TimeSeriesTransformer2021_12_02_16_57_45_077229',\n",
    "    # 'TimeSeriesTransformerWithConvolutionalAttention2021_12_08_12_03_29_886202',\n",
    "    # 'TimeSeriesTransformerWithConvolutionalAttention2021_12_15_11_57_08_935348',\n",
    "    # 'LinearRegression2021_12_02_12_25_39_613388'\n",
    "\n",
    "experiments = []\n",
    "for model_id in model_ids:\n",
    "    with open(os.path.join('..', 'experiments', 'archive', model_id + '.json')) as file:\n",
    "        experiments.append(json.load(file))\n",
    "\n",
    "def calc_prediction_deviations(exp):\n",
    "    length = len(exp['evaluation']['expected_predicted_comparison'])\n",
    "    predicted = np.array([np.array([0 for _ in range(0, 24)], dtype=np.float32) for _ in range(0, length)],\n",
    "                         dtype=np.float32)\n",
    "    expected = np.array([np.array([0 for _ in range(0, 24)], dtype=np.float32) for _ in range(0, length)],\n",
    "                        dtype=np.float32)\n",
    "    for index, d in enumerate(exp['evaluation']['expected_predicted_comparison']):\n",
    "        predicted[index] += np.array(d['predicted'])\n",
    "        expected[index] = np.array(d['expected'])  # it is expected that the model are trained on the same data\n",
    "    return expected - predicted\n",
    "\n",
    "for experiment in experiments:\n",
    "    deviations = calc_prediction_deviations(experiment)\n",
    "    plt.plot(deviations[:336, 12])\n",
    "plt.show()\n",
    "\n",
    "for experiment in experiments:\n",
    "    deviations = calc_prediction_deviations(experiment)\n",
    "    plt.hist(deviations[:, 12], bins=40, histtype = 'step', range=[-1500, 1500])\n",
    "plt.show()\n",
    "# for i in range(0, 23):\n",
    "#     print('deviation', deviations[:, i].mean())\n",
    "#     print('std', deviations[:, i].std())\n"
   ],
   "metadata": {
    "collapsed": false,
    "pycharm": {
     "name": "#%%\n"
    }
   }
  }
 ],
 "metadata": {
  "kernelspec": {
   "display_name": "Python 3",
   "language": "python",
   "name": "python3"
  },
  "language_info": {
   "codemirror_mode": {
    "name": "ipython",
    "version": 2
   },
   "file_extension": ".py",
   "mimetype": "text/x-python",
   "name": "python",
   "nbconvert_exporter": "python",
   "pygments_lexer": "ipython2",
   "version": "2.7.6"
  }
 },
 "nbformat": 4,
 "nbformat_minor": 0
}