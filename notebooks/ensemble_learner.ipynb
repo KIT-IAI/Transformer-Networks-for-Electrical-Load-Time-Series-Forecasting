{
 "cells": [
  {
   "cell_type": "code",
   "execution_count": null,
   "outputs": [],
   "source": [
    "import json\n",
    "import os\n",
    "from typing import List, Dict\n",
    "\n",
    "import numpy as np\n",
    "import torch\n",
    "from matplotlib import pyplot as plt\n",
    "\n",
    "from utils.losses import calculate_mape_loss\n",
    "\n",
    "model_ids: List[str] = [\n",
    "    # 'SimpleNeuralNet2021_12_02_11_51_54_168646',\n",
    "    # 'SimpleNeuralNet2021_12_02_11_11_55_435483',\n",
    "    # 'LinearRegression2021_12_02_12_25_39_613388',\n",
    "    'TimeSeriesTransformer2021_12_02_16_57_45_077229',\n",
    "    # 'TimeSeriesTransformerWithConvolutionalAttention2021_12_08_12_03_29_886202',\n",
    "    # 'TimeSeriesTransformerWithConvolutionalAttention2021_12_15_11_57_08_935348',\n",
    "    'LinearRegression2021_12_02_12_25_39_613388',\n",
    "    # 'TimeSeriesTransformerWithConvolutionalAttention2021_12_15_12_36_39_801430',\n",
    "    'TimeSeriesTransformerWithConvolutionalAttention2021_12_08_12_03_29_886202',\n",
    "    'TimeSeriesTransformerWithConvolutionalAttention2021_12_15_12_36_39_801430'\n",
    "]\n",
    "\n",
    "comparison_model_id: str = 'SimpleNeuralNet2021_12_02_11_11_55_435483'\n",
    "\n",
    "experiments = []\n",
    "for model_id in model_ids:\n",
    "    with open(os.path.join('..', 'experiments', 'archive', model_id + '.json')) as file:\n",
    "        experiments.append(json.load(file))\n",
    "\n",
    "with open(os.path.join('..', 'experiments', 'archive', comparison_model_id + '.json')) as file:\n",
    "    comparison_experiment = json.load(file)"
   ],
   "metadata": {
    "collapsed": false,
    "pycharm": {
     "name": "#%%\n"
    }
   }
  },
  {
   "cell_type": "code",
   "execution_count": null,
   "outputs": [],
   "source": [
    "def create_ensemble_model(exps):\n",
    "    length = len(exps[0]['evaluation']['expected_predicted_comparison'])\n",
    "    predicted = np.array([np.array([0 for _ in range(0, 24)], dtype=np.float32) for _ in range(0, length)],\n",
    "                         dtype=np.float32)\n",
    "    expected = np.array([np.array([0 for _ in range(0, 24)], dtype=np.float32) for _ in range(0, length)],\n",
    "                        dtype=np.float32)\n",
    "    print(predicted.shape)\n",
    "    for experiment in exps:\n",
    "        for index, d in enumerate(experiment['evaluation']['expected_predicted_comparison']):\n",
    "            predicted[index] += np.array(d['predicted'])\n",
    "            expected[index] = np.array(d['expected'])  # it is expected that the model are trained on the same data\n",
    "    predicted /= len(exps)\n",
    "    return predicted, expected\n",
    "\n",
    "\n",
    "p, e = create_ensemble_model(experiments)\n",
    "mape_loss = calculate_mape_loss(torch.Tensor(p), torch.Tensor(e)).item()\n",
    "print(mape_loss)"
   ],
   "metadata": {
    "collapsed": false,
    "pycharm": {
     "name": "#%%\n"
    }
   }
  },
  {
   "cell_type": "code",
   "execution_count": null,
   "outputs": [],
   "source": [
    "mape_losses_by_prediction_variable = dict()\n",
    "for index in range(0, 24):\n",
    "    t1 = torch.Tensor(e[:, index])\n",
    "    t2 = torch.Tensor(p[:, index])\n",
    "    mape_losses_by_prediction_variable[str(index)] = calculate_mape_loss(t2, t1).item()\n",
    "print(mape_losses_by_prediction_variable)\n",
    "\n",
    "mape_losses = []\n",
    "for key in mape_losses_by_prediction_variable:\n",
    "    mape_losses.append(mape_losses_by_prediction_variable[key])\n",
    "print(mape_losses)\n",
    "\n",
    "comparison_losses = []\n",
    "for key in comparison_experiment['evaluation']['mape_losses_by_prediction_variable']:\n",
    "    comparison_losses.append(comparison_experiment['evaluation']['mape_losses_by_prediction_variable'][key])\n",
    "\n",
    "plt.plot(mape_losses, label='Ensemble (4x Transformer + 1x Linear Regr.)')\n",
    "plt.plot(comparison_losses, label='NeuralNet (2 Layers x 2048 Neurons)')\n",
    "plt.legend()\n",
    "plt.show()"
   ],
   "metadata": {
    "collapsed": false,
    "pycharm": {
     "name": "#%%\n"
    }
   }
  }
 ],
 "metadata": {
  "kernelspec": {
   "display_name": "Python 3",
   "language": "python",
   "name": "python3"
  },
  "language_info": {
   "codemirror_mode": {
    "name": "ipython",
    "version": 2
   },
   "file_extension": ".py",
   "mimetype": "text/x-python",
   "name": "python",
   "nbconvert_exporter": "python",
   "pygments_lexer": "ipython2",
   "version": "2.7.6"
  }
 },
 "nbformat": 4,
 "nbformat_minor": 0
}